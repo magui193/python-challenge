{
 "cells": [
  {
   "cell_type": "code",
   "execution_count": 1,
   "id": "9a41d1f5",
   "metadata": {},
   "outputs": [],
   "source": [
    "#import packages\n",
    "import os\n",
    "import csv"
   ]
  },
  {
   "cell_type": "code",
   "execution_count": 2,
   "id": "1730fa32",
   "metadata": {},
   "outputs": [],
   "source": [
    "#import statistics to calculate average, min and max\n",
    "import statistics as st"
   ]
  },
  {
   "cell_type": "code",
   "execution_count": 3,
   "id": "de5cb62f",
   "metadata": {},
   "outputs": [],
   "source": [
    "#creating the listas to acumulate data\n",
    "monthslist = []\n",
    "amountlist = []\n",
    "difference = []"
   ]
  },
  {
   "cell_type": "code",
   "execution_count": 4,
   "id": "c54b3646",
   "metadata": {},
   "outputs": [],
   "source": [
    "#Path for data and final document\n",
    "initialcsv = os.path.join(\"Resources\", \"budget_data.csv\")\n",
    "final = os.path.join(\"Analysis\", \"pybank_analysis.txt\")"
   ]
  },
  {
   "cell_type": "code",
   "execution_count": 5,
   "id": "5c68d9cb",
   "metadata": {},
   "outputs": [
    {
     "ename": "SyntaxError",
     "evalue": "unexpected EOF while parsing (<ipython-input-5-d7af081fb0a9>, line 9)",
     "output_type": "error",
     "traceback": [
      "\u001b[0;36m  File \u001b[0;32m\"<ipython-input-5-d7af081fb0a9>\"\u001b[0;36m, line \u001b[0;32m9\u001b[0m\n\u001b[0;31m    amountlist.append(int(row[1])\u001b[0m\n\u001b[0m                                 ^\u001b[0m\n\u001b[0;31mSyntaxError\u001b[0m\u001b[0;31m:\u001b[0m unexpected EOF while parsing\n"
     ]
    }
   ],
   "source": [
    "#open CSV\n",
    "with open (initialcsv) as csvfile:\n",
    "    csvreader= csv.reader(csvfile, delimiter=',')\n",
    "    Headers = next(reader)\n",
    "\n",
    "    #to storage csv data in lists\n",
    "    for row in csvreader:\n",
    "        monthslist.append(row[0])\n",
    "        amountlist.append(int(row[1])"
   ]
  },
  {
   "cell_type": "code",
   "execution_count": 6,
   "id": "e18c4427",
   "metadata": {},
   "outputs": [],
   "source": [
    "#create the loop to calculate total profit or losses\n",
    "totalpl = 0\n",
    "for i in amountlist:\n",
    "    totalpl = totalpl + i"
   ]
  },
  {
   "cell_type": "code",
   "execution_count": 8,
   "id": "80074b06",
   "metadata": {},
   "outputs": [
    {
     "ename": "ValueError",
     "evalue": "max() arg is an empty sequence",
     "output_type": "error",
     "traceback": [
      "\u001b[0;31m---------------------------------------------------------------------------\u001b[0m",
      "\u001b[0;31mValueError\u001b[0m                                Traceback (most recent call last)",
      "\u001b[0;32m<ipython-input-8-02b14292d207>\u001b[0m in \u001b[0;36m<module>\u001b[0;34m\u001b[0m\n\u001b[1;32m      3\u001b[0m     \u001b[0mdifference\u001b[0m \u001b[0;34m=\u001b[0m \u001b[0;34m(\u001b[0m\u001b[0mamountlist\u001b[0m \u001b[0;34m[\u001b[0m\u001b[0mi\u001b[0m\u001b[0;34m+\u001b[0m\u001b[0;36m1\u001b[0m\u001b[0;34m]\u001b[0m \u001b[0;34m-\u001b[0m \u001b[0mamountlist\u001b[0m \u001b[0;34m[\u001b[0m\u001b[0mi\u001b[0m\u001b[0;34m]\u001b[0m\u001b[0;34m)\u001b[0m\u001b[0;34m\u001b[0m\u001b[0;34m\u001b[0m\u001b[0m\n\u001b[1;32m      4\u001b[0m \u001b[0;34m\u001b[0m\u001b[0m\n\u001b[0;32m----> 5\u001b[0;31m \u001b[0mmaxamount\u001b[0m \u001b[0;34m=\u001b[0m \u001b[0mmax\u001b[0m\u001b[0;34m(\u001b[0m\u001b[0mdifference\u001b[0m\u001b[0;34m)\u001b[0m\u001b[0;34m\u001b[0m\u001b[0;34m\u001b[0m\u001b[0m\n\u001b[0m\u001b[1;32m      6\u001b[0m \u001b[0mminamount\u001b[0m\u001b[0;34m=\u001b[0m \u001b[0mmin\u001b[0m\u001b[0;34m(\u001b[0m\u001b[0mdifference\u001b[0m\u001b[0;34m)\u001b[0m\u001b[0;34m\u001b[0m\u001b[0;34m\u001b[0m\u001b[0m\n",
      "\u001b[0;31mValueError\u001b[0m: max() arg is an empty sequence"
     ]
    }
   ],
   "source": [
    "#to enter data to the difference list\n",
    "for i in amountlist:\n",
    "    difference = (amountlist [i+1] - amountlist [i])\n",
    "\n",
    "maxamount = max(difference)\n",
    "minamount= min(difference)\n"
   ]
  },
  {
   "cell_type": "code",
   "execution_count": 9,
   "id": "4990fda9",
   "metadata": {},
   "outputs": [
    {
     "ename": "IndentationError",
     "evalue": "unexpected indent (<ipython-input-9-ba3ea56bbf41>, line 3)",
     "output_type": "error",
     "traceback": [
      "\u001b[0;36m  File \u001b[0;32m\"<ipython-input-9-ba3ea56bbf41>\"\u001b[0;36m, line \u001b[0;32m3\u001b[0m\n\u001b[0;31m    round(averagepl,2)\u001b[0m\n\u001b[0m    ^\u001b[0m\n\u001b[0;31mIndentationError\u001b[0m\u001b[0;31m:\u001b[0m unexpected indent\n"
     ]
    }
   ],
   "source": [
    "#create average variable\n",
    "averagepl = mean(difference)\n",
    "    round(averagepl,2)"
   ]
  },
  {
   "cell_type": "code",
   "execution_count": 10,
   "id": "2f6b193e",
   "metadata": {},
   "outputs": [
    {
     "ename": "SyntaxError",
     "evalue": "invalid syntax (<ipython-input-10-b690108c5a8a>, line 5)",
     "output_type": "error",
     "traceback": [
      "\u001b[0;36m  File \u001b[0;32m\"<ipython-input-10-b690108c5a8a>\"\u001b[0;36m, line \u001b[0;32m5\u001b[0m\n\u001b[0;31m    \"Total Profit/Losses:\" + int(totalpl)\u001b[0m\n\u001b[0m    ^\u001b[0m\n\u001b[0;31mSyntaxError\u001b[0m\u001b[0;31m:\u001b[0m invalid syntax\n"
     ]
    }
   ],
   "source": [
    "#print all the information\n",
    "Analysis_PyBank = (\"Financial Analysis:\"\n",
    "                   \"--------------------------------------\"\n",
    "                   \"Total Months:\" + {len(Dates)} \n",
    "                   \"Total Profit/Losses:\" + int(totalpl)\n",
    "                   \"Average Change:\" + round(averagepl,2)\n",
    "                   \"Greatest increase:\" + int(maxamount)\n",
    "                   \"Greatest decrease:\" + int(minamount)\n",
    ")"
   ]
  },
  {
   "cell_type": "code",
   "execution_count": null,
   "id": "2c4df700",
   "metadata": {},
   "outputs": [],
   "source": []
  }
 ],
 "metadata": {
  "kernelspec": {
   "display_name": "Python 3",
   "language": "python",
   "name": "python3"
  },
  "language_info": {
   "codemirror_mode": {
    "name": "ipython",
    "version": 3
   },
   "file_extension": ".py",
   "mimetype": "text/x-python",
   "name": "python",
   "nbconvert_exporter": "python",
   "pygments_lexer": "ipython3",
   "version": "3.8.8"
  }
 },
 "nbformat": 4,
 "nbformat_minor": 5
}
